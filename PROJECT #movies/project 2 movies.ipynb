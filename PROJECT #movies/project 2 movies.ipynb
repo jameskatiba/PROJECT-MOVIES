{
 "cells": [
  {
   "cell_type": "markdown",
   "id": "89b6beee",
   "metadata": {},
   "source": [
    "Independent Project 2: Mode Data, More Visualizations :MOVIES"
   ]
  },
  {
   "cell_type": "code",
   "execution_count": 59,
   "id": "41f06586",
   "metadata": {},
   "outputs": [],
   "source": [
    "import pandas as pd\n",
    "import matplotlib.pyplot as plt\n",
    "import seaborn as sns\n"
   ]
  },
  {
   "cell_type": "code",
   "execution_count": 60,
   "id": "181ed354",
   "metadata": {},
   "outputs": [],
   "source": [
    "disney_plus_titles = pd.read_csv('disney_plus_titles.csv')\n",
    "disney_movies = pd.read_csv('disney_movies.csv')\n",
    "\n",
    "movies= pd.concat([disney_plus_titles, disney_movies], ignore_index=True)\n",
    "movies.to_csv('combined_files.csv', index=False)\n",
    "movies = pd.read_csv('combined_files.csv')"
   ]
  },
  {
   "cell_type": "code",
   "execution_count": 61,
   "id": "d956e748",
   "metadata": {},
   "outputs": [
    {
     "name": "stdout",
     "output_type": "stream",
     "text": [
      "Basic Information about the Dataset:\n",
      "<class 'pandas.core.frame.DataFrame'>\n",
      "RangeIndex: 2029 entries, 0 to 2028\n",
      "Data columns (total 18 columns):\n",
      " #   Column                    Non-Null Count  Dtype  \n",
      "---  ------                    --------------  -----  \n",
      " 0   show_id                   1450 non-null   object \n",
      " 1   type                      1450 non-null   object \n",
      " 2   title                     1450 non-null   object \n",
      " 3   director                  977 non-null    object \n",
      " 4   cast                      1260 non-null   object \n",
      " 5   country                   1231 non-null   object \n",
      " 6   date_added                1447 non-null   object \n",
      " 7   release_year              1450 non-null   float64\n",
      " 8   rating                    1447 non-null   object \n",
      " 9   duration                  1450 non-null   object \n",
      " 10  listed_in                 1450 non-null   object \n",
      " 11  description               1450 non-null   object \n",
      " 12  movie_title               579 non-null    object \n",
      " 13  release_date              579 non-null    object \n",
      " 14  genre                     562 non-null    object \n",
      " 15  mpaa_rating               523 non-null    object \n",
      " 16  total_gross               579 non-null    float64\n",
      " 17  inflation_adjusted_gross  579 non-null    float64\n",
      "dtypes: float64(3), object(15)\n",
      "memory usage: 285.5+ KB\n",
      "None\n"
     ]
    }
   ],
   "source": [
    "# Display basic information about the dataset\n",
    "print(\"Basic Information about the Dataset:\")\n",
    "print(movies.info())"
   ]
  },
  {
   "cell_type": "code",
   "execution_count": 62,
   "id": "c0052bbb",
   "metadata": {},
   "outputs": [
    {
     "name": "stdout",
     "output_type": "stream",
     "text": [
      "\n",
      "Summary Statistics for Numerical Columns:\n",
      "       release_year   total_gross  inflation_adjusted_gross\n",
      "count   1450.000000  5.790000e+02              5.790000e+02\n",
      "mean    2003.091724  6.470179e+07              1.187625e+08\n",
      "std       21.860162  9.301301e+07              2.860853e+08\n",
      "min     1928.000000  0.000000e+00              0.000000e+00\n",
      "25%     1999.000000  1.278886e+07              2.274123e+07\n",
      "50%     2011.000000  3.070245e+07              5.515978e+07\n",
      "75%     2018.000000  7.570903e+07              1.192020e+08\n",
      "max     2021.000000  9.366622e+08              5.228953e+09\n"
     ]
    }
   ],
   "source": [
    "# Summary statistics for numerical columns\n",
    "print(\"\\nSummary Statistics for Numerical Columns:\")\n",
    "print(movies.describe())"
   ]
  },
  {
   "cell_type": "code",
   "execution_count": 63,
   "id": "063318ec",
   "metadata": {},
   "outputs": [],
   "source": [
    "# Handling Missing Values\n",
    "# Removing rows with missing values\n",
    "movies_cleaned1 = movies.dropna()"
   ]
  },
  {
   "cell_type": "code",
   "execution_count": 64,
   "id": "60ba5fed",
   "metadata": {},
   "outputs": [],
   "source": [
    "# Imputing missing values with the mean for numerical columns\n",
    "movies_cleaned2 = movies.copy()\n",
    "for column in movies_cleaned2.columns:\n",
    "    if movies_cleaned2[column].dtype != 'object':\n",
    "        movies_cleaned2[column].fillna(movies_cleaned2[column].mean(), inplace=True)"
   ]
  },
  {
   "cell_type": "code",
   "execution_count": 65,
   "id": "4c239114",
   "metadata": {},
   "outputs": [],
   "source": [
    "# Imputing missing values with the mode for categorical columns\n",
    "movies_cleaned3 = movies.copy()\n",
    "for column in movies_cleaned3.columns:\n",
    "    if movies_cleaned3[column].dtype == 'object':\n",
    "        movies_cleaned3[column].fillna(movies_cleaned3[column].mode()[0], inplace=True)"
   ]
  },
  {
   "cell_type": "code",
   "execution_count": 66,
   "id": "54a1a7ec",
   "metadata": {},
   "outputs": [
    {
     "name": "stdout",
     "output_type": "stream",
     "text": [
      "\n",
      "Number of Duplicate Rows: 0\n"
     ]
    }
   ],
   "source": [
    "# Checking for duplicates\n",
    "duplicate_rows = movies.duplicated()\n",
    "print(\"\\nNumber of Duplicate Rows:\", duplicate_rows.sum())"
   ]
  },
  {
   "cell_type": "code",
   "execution_count": 67,
   "id": "97161c88",
   "metadata": {},
   "outputs": [],
   "source": [
    "# Removing duplicates (optional, depending on your analysis goals)\n",
    "movies_no_duplicates = movies.drop_duplicates()"
   ]
  },
  {
   "cell_type": "code",
   "execution_count": 68,
   "id": "3ffe6117",
   "metadata": {},
   "outputs": [],
   "source": [
    "# Save the cleaned data to a new CSV file\n",
    "movies_no_duplicates.to_csv('cleaned_data.csv', index=False)"
   ]
  },
  {
   "cell_type": "code",
   "execution_count": 69,
   "id": "e88c2914",
   "metadata": {},
   "outputs": [
    {
     "ename": "KeyError",
     "evalue": "'duration_numeric'",
     "output_type": "error",
     "traceback": [
      "\u001b[1;31m---------------------------------------------------------------------------\u001b[0m",
      "\u001b[1;31mKeyError\u001b[0m                                  Traceback (most recent call last)",
      "\u001b[1;32mc:\\Users\\katib\\anaconda3\\envs\\learn-env\\lib\\site-packages\\pandas\\core\\indexes\\base.py\u001b[0m in \u001b[0;36mget_loc\u001b[1;34m(self, key, method, tolerance)\u001b[0m\n\u001b[0;32m   2894\u001b[0m             \u001b[1;32mtry\u001b[0m\u001b[1;33m:\u001b[0m\u001b[1;33m\u001b[0m\u001b[1;33m\u001b[0m\u001b[0m\n\u001b[1;32m-> 2895\u001b[1;33m                 \u001b[1;32mreturn\u001b[0m \u001b[0mself\u001b[0m\u001b[1;33m.\u001b[0m\u001b[0m_engine\u001b[0m\u001b[1;33m.\u001b[0m\u001b[0mget_loc\u001b[0m\u001b[1;33m(\u001b[0m\u001b[0mcasted_key\u001b[0m\u001b[1;33m)\u001b[0m\u001b[1;33m\u001b[0m\u001b[1;33m\u001b[0m\u001b[0m\n\u001b[0m\u001b[0;32m   2896\u001b[0m             \u001b[1;32mexcept\u001b[0m \u001b[0mKeyError\u001b[0m \u001b[1;32mas\u001b[0m \u001b[0merr\u001b[0m\u001b[1;33m:\u001b[0m\u001b[1;33m\u001b[0m\u001b[1;33m\u001b[0m\u001b[0m\n",
      "\u001b[1;32mpandas\\_libs\\index.pyx\u001b[0m in \u001b[0;36mpandas._libs.index.IndexEngine.get_loc\u001b[1;34m()\u001b[0m\n",
      "\u001b[1;32mpandas\\_libs\\index.pyx\u001b[0m in \u001b[0;36mpandas._libs.index.IndexEngine.get_loc\u001b[1;34m()\u001b[0m\n",
      "\u001b[1;32mpandas\\_libs\\hashtable_class_helper.pxi\u001b[0m in \u001b[0;36mpandas._libs.hashtable.PyObjectHashTable.get_item\u001b[1;34m()\u001b[0m\n",
      "\u001b[1;32mpandas\\_libs\\hashtable_class_helper.pxi\u001b[0m in \u001b[0;36mpandas._libs.hashtable.PyObjectHashTable.get_item\u001b[1;34m()\u001b[0m\n",
      "\u001b[1;31mKeyError\u001b[0m: 'duration_numeric'",
      "\nThe above exception was the direct cause of the following exception:\n",
      "\u001b[1;31mKeyError\u001b[0m                                  Traceback (most recent call last)",
      "\u001b[1;32m<ipython-input-69-2cc215f6ddb5>\u001b[0m in \u001b[0;36m<module>\u001b[1;34m\u001b[0m\n\u001b[0;32m      2\u001b[0m \u001b[1;33m\u001b[0m\u001b[0m\n\u001b[0;32m      3\u001b[0m \u001b[1;31m# Mean and Standard Deviation of Duration for Movies\u001b[0m\u001b[1;33m\u001b[0m\u001b[1;33m\u001b[0m\u001b[1;33m\u001b[0m\u001b[0m\n\u001b[1;32m----> 4\u001b[1;33m \u001b[0mmovies_duration\u001b[0m \u001b[1;33m=\u001b[0m \u001b[0mmovies\u001b[0m\u001b[1;33m[\u001b[0m\u001b[0mmovies\u001b[0m\u001b[1;33m[\u001b[0m\u001b[1;34m'type'\u001b[0m\u001b[1;33m]\u001b[0m \u001b[1;33m==\u001b[0m \u001b[1;34m'Movie'\u001b[0m\u001b[1;33m]\u001b[0m\u001b[1;33m[\u001b[0m\u001b[1;34m'duration_numeric'\u001b[0m\u001b[1;33m]\u001b[0m\u001b[1;33m\u001b[0m\u001b[1;33m\u001b[0m\u001b[0m\n\u001b[0m\u001b[0;32m      5\u001b[0m \u001b[0mmean_duration_movies\u001b[0m \u001b[1;33m=\u001b[0m \u001b[0mmovies_duration\u001b[0m\u001b[1;33m.\u001b[0m\u001b[0mmean\u001b[0m\u001b[1;33m(\u001b[0m\u001b[1;33m)\u001b[0m\u001b[1;33m\u001b[0m\u001b[1;33m\u001b[0m\u001b[0m\n\u001b[0;32m      6\u001b[0m \u001b[0mstd_duration_movies\u001b[0m \u001b[1;33m=\u001b[0m \u001b[0mmovies_duration\u001b[0m\u001b[1;33m.\u001b[0m\u001b[0mstd\u001b[0m\u001b[1;33m(\u001b[0m\u001b[1;33m)\u001b[0m\u001b[1;33m\u001b[0m\u001b[1;33m\u001b[0m\u001b[0m\n",
      "\u001b[1;32mc:\\Users\\katib\\anaconda3\\envs\\learn-env\\lib\\site-packages\\pandas\\core\\frame.py\u001b[0m in \u001b[0;36m__getitem__\u001b[1;34m(self, key)\u001b[0m\n\u001b[0;32m   2900\u001b[0m             \u001b[1;32mif\u001b[0m \u001b[0mself\u001b[0m\u001b[1;33m.\u001b[0m\u001b[0mcolumns\u001b[0m\u001b[1;33m.\u001b[0m\u001b[0mnlevels\u001b[0m \u001b[1;33m>\u001b[0m \u001b[1;36m1\u001b[0m\u001b[1;33m:\u001b[0m\u001b[1;33m\u001b[0m\u001b[1;33m\u001b[0m\u001b[0m\n\u001b[0;32m   2901\u001b[0m                 \u001b[1;32mreturn\u001b[0m \u001b[0mself\u001b[0m\u001b[1;33m.\u001b[0m\u001b[0m_getitem_multilevel\u001b[0m\u001b[1;33m(\u001b[0m\u001b[0mkey\u001b[0m\u001b[1;33m)\u001b[0m\u001b[1;33m\u001b[0m\u001b[1;33m\u001b[0m\u001b[0m\n\u001b[1;32m-> 2902\u001b[1;33m             \u001b[0mindexer\u001b[0m \u001b[1;33m=\u001b[0m \u001b[0mself\u001b[0m\u001b[1;33m.\u001b[0m\u001b[0mcolumns\u001b[0m\u001b[1;33m.\u001b[0m\u001b[0mget_loc\u001b[0m\u001b[1;33m(\u001b[0m\u001b[0mkey\u001b[0m\u001b[1;33m)\u001b[0m\u001b[1;33m\u001b[0m\u001b[1;33m\u001b[0m\u001b[0m\n\u001b[0m\u001b[0;32m   2903\u001b[0m             \u001b[1;32mif\u001b[0m \u001b[0mis_integer\u001b[0m\u001b[1;33m(\u001b[0m\u001b[0mindexer\u001b[0m\u001b[1;33m)\u001b[0m\u001b[1;33m:\u001b[0m\u001b[1;33m\u001b[0m\u001b[1;33m\u001b[0m\u001b[0m\n\u001b[0;32m   2904\u001b[0m                 \u001b[0mindexer\u001b[0m \u001b[1;33m=\u001b[0m \u001b[1;33m[\u001b[0m\u001b[0mindexer\u001b[0m\u001b[1;33m]\u001b[0m\u001b[1;33m\u001b[0m\u001b[1;33m\u001b[0m\u001b[0m\n",
      "\u001b[1;32mc:\\Users\\katib\\anaconda3\\envs\\learn-env\\lib\\site-packages\\pandas\\core\\indexes\\base.py\u001b[0m in \u001b[0;36mget_loc\u001b[1;34m(self, key, method, tolerance)\u001b[0m\n\u001b[0;32m   2895\u001b[0m                 \u001b[1;32mreturn\u001b[0m \u001b[0mself\u001b[0m\u001b[1;33m.\u001b[0m\u001b[0m_engine\u001b[0m\u001b[1;33m.\u001b[0m\u001b[0mget_loc\u001b[0m\u001b[1;33m(\u001b[0m\u001b[0mcasted_key\u001b[0m\u001b[1;33m)\u001b[0m\u001b[1;33m\u001b[0m\u001b[1;33m\u001b[0m\u001b[0m\n\u001b[0;32m   2896\u001b[0m             \u001b[1;32mexcept\u001b[0m \u001b[0mKeyError\u001b[0m \u001b[1;32mas\u001b[0m \u001b[0merr\u001b[0m\u001b[1;33m:\u001b[0m\u001b[1;33m\u001b[0m\u001b[1;33m\u001b[0m\u001b[0m\n\u001b[1;32m-> 2897\u001b[1;33m                 \u001b[1;32mraise\u001b[0m \u001b[0mKeyError\u001b[0m\u001b[1;33m(\u001b[0m\u001b[0mkey\u001b[0m\u001b[1;33m)\u001b[0m \u001b[1;32mfrom\u001b[0m \u001b[0merr\u001b[0m\u001b[1;33m\u001b[0m\u001b[1;33m\u001b[0m\u001b[0m\n\u001b[0m\u001b[0;32m   2898\u001b[0m \u001b[1;33m\u001b[0m\u001b[0m\n\u001b[0;32m   2899\u001b[0m         \u001b[1;32mif\u001b[0m \u001b[0mtolerance\u001b[0m \u001b[1;32mis\u001b[0m \u001b[1;32mnot\u001b[0m \u001b[1;32mNone\u001b[0m\u001b[1;33m:\u001b[0m\u001b[1;33m\u001b[0m\u001b[1;33m\u001b[0m\u001b[0m\n",
      "\u001b[1;31mKeyError\u001b[0m: 'duration_numeric'"
     ]
    }
   ],
   "source": [
    "# Data Analysis:\n",
    "\n",
    "# Mean and Standard Deviation of Duration for Movies\n",
    "movies_duration = movies[movies['type'] == 'Movie']['duration_numeric']\n",
    "mean_duration_movies = movies_duration.mean()\n",
    "std_duration_movies = movies_duration.std()\n",
    "\n",
    "print(f\"Mean duration of movies: {mean_duration_movies} minutes\")\n",
    "print(f\"Standard deviation of duration for movies: {std_duration_movies} minutes\")"
   ]
  },
  {
   "cell_type": "code",
   "execution_count": null,
   "metadata": {},
   "outputs": [
    {
     "name": "stdout",
     "output_type": "stream",
     "text": [
      "\n",
      "Mean total gross for movies: nan\n",
      "Standard deviation of total gross for movies: nan\n",
      "Mean total gross for TV shows: nan\n",
      "Standard deviation of total gross for TV shows: nan\n"
     ]
    }
   ],
   "source": [
    "# Mean and Standard Deviation of Total Gross for Movies and TV Shows\n",
    "total_gross_movies = movies[movies['type'] == 'Movie']['total_gross'].dropna()\n",
    "total_gross_tv_shows = movies[movies['type'] == 'TV Show']['total_gross'].dropna()\n",
    "\n",
    "mean_total_gross_movies = total_gross_movies.mean()\n",
    "std_total_gross_movies = total_gross_movies.std()\n",
    "mean_total_gross_tv_shows = total_gross_tv_shows.mean()\n",
    "std_total_gross_tv_shows = total_gross_tv_shows.std()\n",
    "\n",
    "print(f\"\\nMean total gross for movies: {mean_total_gross_movies}\")\n",
    "print(f\"Standard deviation of total gross for movies: {std_total_gross_movies}\")\n",
    "print(f\"Mean total gross for TV shows: {mean_total_gross_tv_shows}\")\n",
    "print(f\"Standard deviation of total gross for TV shows: {std_total_gross_tv_shows}\")"
   ]
  },
  {
   "cell_type": "code",
   "execution_count": null,
   "id": "c52893c5",
   "metadata": {},
   "outputs": [
    {
     "name": "stdout",
     "output_type": "stream",
     "text": [
      "\n",
      "Correlation between release year and total gross: nan\n"
     ]
    }
   ],
   "source": [
    "# Correlation between Release Year and Total Gross\n",
    "correlation_release_year_total_gross = movies[['release_year', 'total_gross']].corr().iloc[0, 1]\n",
    "\n",
    "print(f\"\\nCorrelation between release year and total gross: {correlation_release_year_total_gross}\")"
   ]
  },
  {
   "cell_type": "code",
   "execution_count": null,
   "id": "f507d3ea",
   "metadata": {},
   "outputs": [
    {
     "data": {
      "text/plain": [
       "Text(0, 0.5, 'Duration (minutes)')"
      ]
     },
     "execution_count": 50,
     "metadata": {},
     "output_type": "execute_result"
    },
    {
     "data": {
      "image/png": "[encoded data removed]",
      "text/plain": [
       "<Figure size 1008x576 with 1 Axes>"
      ]
     },
     "metadata": {
      "needs_background": "light"
     },
     "output_type": "display_data"
    }
   ],
   "source": [
    "# Identify and Handle Unusual Values (Outliers)\n",
    "\n",
    "# Detect and handle outliers in the 'duration_numeric' variable\n",
    "plt.figure(figsize=(14, 8))\n",
    "sns.boxplot(x='type', y='duration_numeric', data=movies, palette='viridis')\n",
    "plt.title('Distribution of Durations for Movies and TV Shows')\n",
    "plt.xlabel('Type')\n",
    "plt.ylabel('Duration (minutes)')"
   ]
  },
  {
   "cell_type": "code",
   "execution_count": null,
   "id": "e1602f95",
   "metadata": {},
   "outputs": [],
   "source": [
    "# Identify outliers for movies\n",
    "Q1_movies = movies[movies['type'] == 'Movie']['duration_numeric'].quantile(0.25)\n",
    "Q3_movies = movies[movies['type'] == 'Movie']['duration_numeric'].quantile(0.75)\n",
    "IQR_movies = Q3_movies - Q1_movies\n",
    "outliers_movies = movies[(movies['type'] == 'Movie') & ((movies['duration_numeric'] < (Q1_movies - 1.5 * IQR_movies)) | (movies['duration_numeric'] > (Q3_movies + 1.5 * IQR_movies)))]"
   ]
  },
  {
   "cell_type": "code",
   "execution_count": null,
   "id": "05fa1fa6",
   "metadata": {},
   "outputs": [],
   "source": [
    "# Identify outliers for TV shows\n",
    "Q1_tv_shows = movies[movies['type'] == 'TV Show']['duration_numeric'].quantile(0.25)\n",
    "Q3_tv_shows = movies[movies['type'] == 'TV Show']['duration_numeric'].quantile(0.75)\n",
    "IQR_tv_shows = Q3_tv_shows - Q1_tv_shows\n",
    "outliers_tv_shows = movies[(movies['type'] == 'TV Show') & ((movies['duration_numeric'] < (Q1_tv_shows - 1.5 * IQR_tv_shows)) | (movies['duration_numeric'] > (Q3_tv_shows + 1.5 * IQR_tv_shows)))]"
   ]
  },
  {
   "cell_type": "code",
   "execution_count": null,
   "id": "21cf425f",
   "metadata": {},
   "outputs": [
    {
     "name": "stdout",
     "output_type": "stream",
     "text": [
      "\n",
      "Outliers in the 'duration_numeric' variable:\n",
      "\n",
      "Outliers in Movies:\n"
     ]
    },
    {
     "data": {
      "text/html": [
       "<div>\n",
       "<style scoped>\n",
       "    .dataframe tbody tr th:only-of-type {\n",
       "        vertical-align: middle;\n",
       "    }\n",
       "\n",
       "    .dataframe tbody tr th {\n",
       "        vertical-align: top;\n",
       "    }\n",
       "\n",
       "    .dataframe thead th {\n",
       "        text-align: right;\n",
       "    }\n",
       "</style>\n",
       "<table border=\"1\" class=\"dataframe\">\n",
       "  <thead>\n",
       "    <tr style=\"text-align: right;\">\n",
       "      <th></th>\n",
       "      <th>title</th>\n",
       "      <th>duration_numeric</th>\n",
       "    </tr>\n",
       "  </thead>\n",
       "  <tbody>\n",
       "    <tr>\n",
       "      <th>330</th>\n",
       "      <td>Arendelle Castle Yule Log</td>\n",
       "      <td>180.0</td>\n",
       "    </tr>\n",
       "    <tr>\n",
       "      <th>333</th>\n",
       "      <td>Dory's Reef Cam</td>\n",
       "      <td>182.0</td>\n",
       "    </tr>\n",
       "    <tr>\n",
       "      <th>1039</th>\n",
       "      <td>Marvel Studios' Avengers: Endgame</td>\n",
       "      <td>183.0</td>\n",
       "    </tr>\n",
       "  </tbody>\n",
       "</table>\n",
       "</div>"
      ],
      "text/plain": [
       "                                  title  duration_numeric\n",
       "330           Arendelle Castle Yule Log             180.0\n",
       "333                     Dory's Reef Cam             182.0\n",
       "1039  Marvel Studios' Avengers: Endgame             183.0"
      ]
     },
     "metadata": {},
     "output_type": "display_data"
    },
    {
     "name": "stdout",
     "output_type": "stream",
     "text": [
      "\n",
      "Outliers in TV Shows:\n"
     ]
    },
    {
     "data": {
      "text/html": [
       "<div>\n",
       "<style scoped>\n",
       "    .dataframe tbody tr th:only-of-type {\n",
       "        vertical-align: middle;\n",
       "    }\n",
       "\n",
       "    .dataframe tbody tr th {\n",
       "        vertical-align: top;\n",
       "    }\n",
       "\n",
       "    .dataframe thead th {\n",
       "        text-align: right;\n",
       "    }\n",
       "</style>\n",
       "<table border=\"1\" class=\"dataframe\">\n",
       "  <thead>\n",
       "    <tr style=\"text-align: right;\">\n",
       "      <th></th>\n",
       "      <th>title</th>\n",
       "      <th>duration_numeric</th>\n",
       "    </tr>\n",
       "  </thead>\n",
       "  <tbody>\n",
       "    <tr>\n",
       "      <th>13</th>\n",
       "      <td>Dr. Oakley, Yukon Vet</td>\n",
       "      <td>10.0</td>\n",
       "    </tr>\n",
       "    <tr>\n",
       "      <th>58</th>\n",
       "      <td>PJ Masks</td>\n",
       "      <td>5.0</td>\n",
       "    </tr>\n",
       "    <tr>\n",
       "      <th>75</th>\n",
       "      <td>Drain the Oceans</td>\n",
       "      <td>4.0</td>\n",
       "    </tr>\n",
       "    <tr>\n",
       "      <th>89</th>\n",
       "      <td>Rolie Polie Olie</td>\n",
       "      <td>5.0</td>\n",
       "    </tr>\n",
       "    <tr>\n",
       "      <th>92</th>\n",
       "      <td>The Simpsons</td>\n",
       "      <td>32.0</td>\n",
       "    </tr>\n",
       "    <tr>\n",
       "      <th>106</th>\n",
       "      <td>Life Below Zero</td>\n",
       "      <td>16.0</td>\n",
       "    </tr>\n",
       "    <tr>\n",
       "      <th>115</th>\n",
       "      <td>The Incredible Dr. Pol</td>\n",
       "      <td>19.0</td>\n",
       "    </tr>\n",
       "    <tr>\n",
       "      <th>125</th>\n",
       "      <td>Dr. K's Exotic Animal ER</td>\n",
       "      <td>9.0</td>\n",
       "    </tr>\n",
       "    <tr>\n",
       "      <th>179</th>\n",
       "      <td>When Sharks Attack</td>\n",
       "      <td>7.0</td>\n",
       "    </tr>\n",
       "    <tr>\n",
       "      <th>184</th>\n",
       "      <td>Disney Raven's Home</td>\n",
       "      <td>4.0</td>\n",
       "    </tr>\n",
       "    <tr>\n",
       "      <th>196</th>\n",
       "      <td>Puppy Dog Pals</td>\n",
       "      <td>4.0</td>\n",
       "    </tr>\n",
       "    <tr>\n",
       "      <th>216</th>\n",
       "      <td>Wicked Tuna</td>\n",
       "      <td>10.0</td>\n",
       "    </tr>\n",
       "    <tr>\n",
       "      <th>219</th>\n",
       "      <td>Ice Road Rescue</td>\n",
       "      <td>5.0</td>\n",
       "    </tr>\n",
       "    <tr>\n",
       "      <th>221</th>\n",
       "      <td>Schoolhouse Rock!</td>\n",
       "      <td>6.0</td>\n",
       "    </tr>\n",
       "    <tr>\n",
       "      <th>234</th>\n",
       "      <td>Spider-Man</td>\n",
       "      <td>5.0</td>\n",
       "    </tr>\n",
       "    <tr>\n",
       "      <th>242</th>\n",
       "      <td>Liv and Maddie</td>\n",
       "      <td>4.0</td>\n",
       "    </tr>\n",
       "    <tr>\n",
       "      <th>246</th>\n",
       "      <td>Primal Survivor</td>\n",
       "      <td>5.0</td>\n",
       "    </tr>\n",
       "    <tr>\n",
       "      <th>263</th>\n",
       "      <td>Secrets Of The Zoo</td>\n",
       "      <td>4.0</td>\n",
       "    </tr>\n",
       "    <tr>\n",
       "      <th>285</th>\n",
       "      <td>Car SOS</td>\n",
       "      <td>8.0</td>\n",
       "    </tr>\n",
       "    <tr>\n",
       "      <th>299</th>\n",
       "      <td>The Muppet Show</td>\n",
       "      <td>5.0</td>\n",
       "    </tr>\n",
       "    <tr>\n",
       "      <th>307</th>\n",
       "      <td>Wicked Tuna: Outer Banks</td>\n",
       "      <td>7.0</td>\n",
       "    </tr>\n",
       "    <tr>\n",
       "      <th>308</th>\n",
       "      <td>Dinosaurs</td>\n",
       "      <td>4.0</td>\n",
       "    </tr>\n",
       "    <tr>\n",
       "      <th>382</th>\n",
       "      <td>Marvel Super Hero Adventures</td>\n",
       "      <td>4.0</td>\n",
       "    </tr>\n",
       "    <tr>\n",
       "      <th>412</th>\n",
       "      <td>Once Upon a Time</td>\n",
       "      <td>7.0</td>\n",
       "    </tr>\n",
       "    <tr>\n",
       "      <th>521</th>\n",
       "      <td>Doc McStuffins</td>\n",
       "      <td>5.0</td>\n",
       "    </tr>\n",
       "    <tr>\n",
       "      <th>553</th>\n",
       "      <td>America's Funniest Home Videos</td>\n",
       "      <td>9.0</td>\n",
       "    </tr>\n",
       "    <tr>\n",
       "      <th>557</th>\n",
       "      <td>Brain Games</td>\n",
       "      <td>8.0</td>\n",
       "    </tr>\n",
       "    <tr>\n",
       "      <th>618</th>\n",
       "      <td>Star Wars: The Clone Wars</td>\n",
       "      <td>7.0</td>\n",
       "    </tr>\n",
       "    <tr>\n",
       "      <th>624</th>\n",
       "      <td>That's So Raven</td>\n",
       "      <td>4.0</td>\n",
       "    </tr>\n",
       "    <tr>\n",
       "      <th>646</th>\n",
       "      <td>Austin &amp; Ally</td>\n",
       "      <td>4.0</td>\n",
       "    </tr>\n",
       "    <tr>\n",
       "      <th>688</th>\n",
       "      <td>Disney Star vs. the Forces of Evil</td>\n",
       "      <td>4.0</td>\n",
       "    </tr>\n",
       "    <tr>\n",
       "      <th>759</th>\n",
       "      <td>Boy Meets World</td>\n",
       "      <td>7.0</td>\n",
       "    </tr>\n",
       "    <tr>\n",
       "      <th>828</th>\n",
       "      <td>Disney Jake and the Never Land Pirates</td>\n",
       "      <td>4.0</td>\n",
       "    </tr>\n",
       "    <tr>\n",
       "      <th>834</th>\n",
       "      <td>Disney Mickey Mouse Clubhouse</td>\n",
       "      <td>5.0</td>\n",
       "    </tr>\n",
       "    <tr>\n",
       "      <th>841</th>\n",
       "      <td>Disney's Adventures Of The Gummi Bears</td>\n",
       "      <td>6.0</td>\n",
       "    </tr>\n",
       "    <tr>\n",
       "      <th>846</th>\n",
       "      <td>Disney's Kim Possible</td>\n",
       "      <td>4.0</td>\n",
       "    </tr>\n",
       "    <tr>\n",
       "      <th>861</th>\n",
       "      <td>Dog Whisperer with Cesar Millan</td>\n",
       "      <td>6.0</td>\n",
       "    </tr>\n",
       "    <tr>\n",
       "      <th>917</th>\n",
       "      <td>Good Luck Charlie</td>\n",
       "      <td>4.0</td>\n",
       "    </tr>\n",
       "    <tr>\n",
       "      <th>930</th>\n",
       "      <td>Hannah Montana</td>\n",
       "      <td>4.0</td>\n",
       "    </tr>\n",
       "    <tr>\n",
       "      <th>975</th>\n",
       "      <td>Jessie</td>\n",
       "      <td>4.0</td>\n",
       "    </tr>\n",
       "    <tr>\n",
       "      <th>987</th>\n",
       "      <td>Kickin' It</td>\n",
       "      <td>4.0</td>\n",
       "    </tr>\n",
       "    <tr>\n",
       "      <th>997</th>\n",
       "      <td>Lab Rats</td>\n",
       "      <td>4.0</td>\n",
       "    </tr>\n",
       "    <tr>\n",
       "      <th>1032</th>\n",
       "      <td>Marvel Comics X-Men</td>\n",
       "      <td>5.0</td>\n",
       "    </tr>\n",
       "    <tr>\n",
       "      <th>1053</th>\n",
       "      <td>Marvel Ultimate Spider-Man</td>\n",
       "      <td>4.0</td>\n",
       "    </tr>\n",
       "    <tr>\n",
       "      <th>1056</th>\n",
       "      <td>Marvel's Avengers Assemble</td>\n",
       "      <td>5.0</td>\n",
       "    </tr>\n",
       "    <tr>\n",
       "      <th>1070</th>\n",
       "      <td>Mickey Mouse (Shorts)</td>\n",
       "      <td>5.0</td>\n",
       "    </tr>\n",
       "    <tr>\n",
       "      <th>1125</th>\n",
       "      <td>Phineas and Ferb</td>\n",
       "      <td>4.0</td>\n",
       "    </tr>\n",
       "    <tr>\n",
       "      <th>1209</th>\n",
       "      <td>Star Wars Rebels</td>\n",
       "      <td>4.0</td>\n",
       "    </tr>\n",
       "    <tr>\n",
       "      <th>1259</th>\n",
       "      <td>The Book of Once Upon a Time</td>\n",
       "      <td>4.0</td>\n",
       "    </tr>\n",
       "    <tr>\n",
       "      <th>1312</th>\n",
       "      <td>The New Adventures of Winnie the Pooh</td>\n",
       "      <td>4.0</td>\n",
       "    </tr>\n",
       "    <tr>\n",
       "      <th>1412</th>\n",
       "      <td>Wizards of Waverly Place</td>\n",
       "      <td>4.0</td>\n",
       "    </tr>\n",
       "    <tr>\n",
       "      <th>1417</th>\n",
       "      <td>X-Men: Evolution</td>\n",
       "      <td>4.0</td>\n",
       "    </tr>\n",
       "  </tbody>\n",
       "</table>\n",
       "</div>"
      ],
      "text/plain": [
       "                                       title  duration_numeric\n",
       "13                     Dr. Oakley, Yukon Vet              10.0\n",
       "58                                  PJ Masks               5.0\n",
       "75                          Drain the Oceans               4.0\n",
       "89                          Rolie Polie Olie               5.0\n",
       "92                              The Simpsons              32.0\n",
       "106                          Life Below Zero              16.0\n",
       "115                   The Incredible Dr. Pol              19.0\n",
       "125                 Dr. K's Exotic Animal ER               9.0\n",
       "179                       When Sharks Attack               7.0\n",
       "184                      Disney Raven's Home               4.0\n",
       "196                           Puppy Dog Pals               4.0\n",
       "216                              Wicked Tuna              10.0\n",
       "219                          Ice Road Rescue               5.0\n",
       "221                        Schoolhouse Rock!               6.0\n",
       "234                               Spider-Man               5.0\n",
       "242                           Liv and Maddie               4.0\n",
       "246                          Primal Survivor               5.0\n",
       "263                       Secrets Of The Zoo               4.0\n",
       "285                                  Car SOS               8.0\n",
       "299                          The Muppet Show               5.0\n",
       "307                 Wicked Tuna: Outer Banks               7.0\n",
       "308                                Dinosaurs               4.0\n",
       "382             Marvel Super Hero Adventures               4.0\n",
       "412                         Once Upon a Time               7.0\n",
       "521                           Doc McStuffins               5.0\n",
       "553           America's Funniest Home Videos               9.0\n",
       "557                              Brain Games               8.0\n",
       "618                Star Wars: The Clone Wars               7.0\n",
       "624                          That's So Raven               4.0\n",
       "646                            Austin & Ally               4.0\n",
       "688       Disney Star vs. the Forces of Evil               4.0\n",
       "759                          Boy Meets World               7.0\n",
       "828   Disney Jake and the Never Land Pirates               4.0\n",
       "834            Disney Mickey Mouse Clubhouse               5.0\n",
       "841   Disney's Adventures Of The Gummi Bears               6.0\n",
       "846                    Disney's Kim Possible               4.0\n",
       "861          Dog Whisperer with Cesar Millan               6.0\n",
       "917                        Good Luck Charlie               4.0\n",
       "930                           Hannah Montana               4.0\n",
       "975                                   Jessie               4.0\n",
       "987                               Kickin' It               4.0\n",
       "997                                 Lab Rats               4.0\n",
       "1032                     Marvel Comics X-Men               5.0\n",
       "1053              Marvel Ultimate Spider-Man               4.0\n",
       "1056              Marvel's Avengers Assemble               5.0\n",
       "1070                   Mickey Mouse (Shorts)               5.0\n",
       "1125                        Phineas and Ferb               4.0\n",
       "1209                        Star Wars Rebels               4.0\n",
       "1259            The Book of Once Upon a Time               4.0\n",
       "1312   The New Adventures of Winnie the Pooh               4.0\n",
       "1412                Wizards of Waverly Place               4.0\n",
       "1417                        X-Men: Evolution               4.0"
      ]
     },
     "metadata": {},
     "output_type": "display_data"
    }
   ],
   "source": [
    "# Print information about outliers\n",
    "print(\"\\nOutliers in the 'duration_numeric' variable:\")\n",
    "print(\"\\nOutliers in Movies:\")\n",
    "display(outliers_movies[['title', 'duration_numeric']])\n",
    "print(\"\\nOutliers in TV Shows:\")\n",
    "display(outliers_tv_shows[['title', 'duration_numeric']])"
   ]
  },
  {
   "cell_type": "code",
   "execution_count": null,
   "id": "1090da84",
   "metadata": {},
   "outputs": [
    {
     "data": {
      "text/plain": [
       "Text(0, 0.5, 'Total Gross')"
      ]
     },
     "execution_count": 55,
     "metadata": {},
     "output_type": "execute_result"
    },
    {
     "data": {
      "image/png": "[encoded data removed]",
      "text/plain": [
       "<Figure size 864x576 with 1 Axes>"
      ]
     },
     "metadata": {
      "needs_background": "light"
     },
     "output_type": "display_data"
    }
   ],
   "source": [
    "# Detect and handle outliers in the 'total_gross' variable\n",
    "plt.figure(figsize=(12, 8))\n",
    "sns.boxplot(x='type', y='total_gross', data=movies, palette='viridis')\n",
    "plt.title('Distribution of Total Gross for Movies and TV Shows')\n",
    "plt.xlabel('Type')\n",
    "plt.ylabel('Total Gross')"
   ]
  },
  {
   "cell_type": "code",
   "execution_count": null,
   "id": "45ce007f",
   "metadata": {},
   "outputs": [],
   "source": [
    "# Identify outliers for movies\n",
    "Q1_gross_movies = movies[movies['type'] == 'Movie']['total_gross'].quantile(0.25)\n",
    "Q3_gross_movies = movies[movies['type'] == 'Movie']['total_gross'].quantile(0.75)\n",
    "IQR_gross_movies = Q3_gross_movies - Q1_gross_movies\n",
    "outliers_gross_movies = movies[(movies['type'] == 'Movie') & ((movies['total_gross'] < (Q1_gross_movies - 1.5 * IQR_gross_movies)) | (movies['total_gross'] > (Q3_gross_movies + 1.5 * IQR_gross_movies)))]"
   ]
  },
  {
   "cell_type": "code",
   "execution_count": null,
   "id": "65ffb1e8",
   "metadata": {},
   "outputs": [],
   "source": [
    "# Identify outliers for TV shows\n",
    "Q1_gross_tv_shows = movies[movies['type'] == 'TV Show']['total_gross'].quantile(0.25)\n",
    "Q3_gross_tv_shows = movies[movies['type'] == 'TV Show']['total_gross'].quantile(0.75)\n",
    "IQR_gross_tv_shows = Q3_gross_tv_shows - Q1_gross_tv_shows\n",
    "outliers_gross_tv_shows = movies[(movies['type'] == 'TV Show') & ((movies['total_gross'] < (Q1_gross_tv_shows - 1.5 * IQR_gross_tv_shows)) | (movies['total_gross'] > (Q3_gross_tv_shows + 1.5 * IQR_gross_tv_shows)))]"
   ]
  },
  {
   "cell_type": "code",
   "execution_count": null,
   "id": "cac0964e",
   "metadata": {},
   "outputs": [
    {
     "name": "stdout",
     "output_type": "stream",
     "text": [
      "\n",
      "Outliers in the 'total_gross' variable:\n",
      "\n",
      "Outliers in Movies:\n"
     ]
    },
    {
     "data": {
      "text/html": [
       "<div>\n",
       "<style scoped>\n",
       "    .dataframe tbody tr th:only-of-type {\n",
       "        vertical-align: middle;\n",
       "    }\n",
       "\n",
       "    .dataframe tbody tr th {\n",
       "        vertical-align: top;\n",
       "    }\n",
       "\n",
       "    .dataframe thead th {\n",
       "        text-align: right;\n",
       "    }\n",
       "</style>\n",
       "<table border=\"1\" class=\"dataframe\">\n",
       "  <thead>\n",
       "    <tr style=\"text-align: right;\">\n",
       "      <th></th>\n",
       "      <th>title</th>\n",
       "      <th>total_gross</th>\n",
       "    </tr>\n",
       "  </thead>\n",
       "  <tbody>\n",
       "  </tbody>\n",
       "</table>\n",
       "</div>"
      ],
      "text/plain": [
       "Empty DataFrame\n",
       "Columns: [title, total_gross]\n",
       "Index: []"
      ]
     },
     "metadata": {},
     "output_type": "display_data"
    },
    {
     "name": "stdout",
     "output_type": "stream",
     "text": [
      "\n",
      "Outliers in TV Shows:\n"
     ]
    },
    {
     "data": {
      "text/html": [
       "<div>\n",
       "<style scoped>\n",
       "    .dataframe tbody tr th:only-of-type {\n",
       "        vertical-align: middle;\n",
       "    }\n",
       "\n",
       "    .dataframe tbody tr th {\n",
       "        vertical-align: top;\n",
       "    }\n",
       "\n",
       "    .dataframe thead th {\n",
       "        text-align: right;\n",
       "    }\n",
       "</style>\n",
       "<table border=\"1\" class=\"dataframe\">\n",
       "  <thead>\n",
       "    <tr style=\"text-align: right;\">\n",
       "      <th></th>\n",
       "      <th>title</th>\n",
       "      <th>total_gross</th>\n",
       "    </tr>\n",
       "  </thead>\n",
       "  <tbody>\n",
       "  </tbody>\n",
       "</table>\n",
       "</div>"
      ],
      "text/plain": [
       "Empty DataFrame\n",
       "Columns: [title, total_gross]\n",
       "Index: []"
      ]
     },
     "metadata": {},
     "output_type": "display_data"
    }
   ],
   "source": [
    "# Print information about outliers\n",
    "print(\"\\nOutliers in the 'total_gross' variable:\")\n",
    "print(\"\\nOutliers in Movies:\")\n",
    "display(outliers_gross_movies[['title', 'total_gross']])\n",
    "print(\"\\nOutliers in TV Shows:\")\n",
    "display(outliers_gross_tv_shows[['title', 'total_gross']])"
   ]
  },
  {
   "cell_type": "code",
   "execution_count": null,
   "id": "914cdb06",
   "metadata": {},
   "outputs": [
    {
     "data": {
      "image/png": "[encoded data removed]",
      "text/plain": [
       "<Figure size 720x432 with 1 Axes>"
      ]
     },
     "metadata": {
      "needs_background": "light"
     },
     "output_type": "display_data"
    }
   ],
   "source": [
    "# Histogram\n",
    "plt.figure(figsize=(10, 6))\n",
    "plt.hist(movies['release_year'].dropna(), bins=30, color='skyblue', edgecolor='black')\n",
    "plt.title('Histogram of Release Year')\n",
    "plt.xlabel('Release Year')\n",
    "plt.ylabel('Frequency')\n",
    "plt.show()"
   ]
  },
  {
   "cell_type": "code",
   "execution_count": null,
   "id": "b676f11a",
   "metadata": {},
   "outputs": [
    {
     "data": {
      "image/png": "[encoded data removed]",
      "text/plain": [
       "<Figure size 720x432 with 1 Axes>"
      ]
     },
     "metadata": {
      "needs_background": "light"
     },
     "output_type": "display_data"
    }
   ],
   "source": [
    "# Extract numeric part from 'duration' and convert to numeric\n",
    "movies['duration_numeric'] = movies['duration'].str.extract('(\\d+)').astype(float)\n",
    "\n",
    "# Box Plot\n",
    "plt.figure(figsize=(10, 6))\n",
    "sns.boxplot(x='type', y='duration_numeric', data=movies, palette='Set2')\n",
    "plt.title('Box Plot of Duration by Type')\n",
    "plt.xlabel('Type')\n",
    "plt.ylabel('Duration (minutes)')\n",
    "plt.show()"
   ]
  },
  {
   "cell_type": "code",
   "execution_count": null,
   "id": "0a36322a",
   "metadata": {},
   "outputs": [
    {
     "data": {
      "image/png": "[encoded data removed]",
      "text/plain": [
       "<Figure size 720x432 with 1 Axes>"
      ]
     },
     "metadata": {
      "needs_background": "light"
     },
     "output_type": "display_data"
    }
   ],
   "source": [
    "# Scatter Plot\n",
    "plt.figure(figsize=(10, 6))\n",
    "sns.scatterplot(x='release_year', y='total_gross', data=movies, hue='type', palette='Set1', alpha=0.7)\n",
    "plt.title('Scatter Plot of Release Year and Total Gross')\n",
    "plt.show()"
   ]
  },
  {
   "cell_type": "code",
   "execution_count": null,
   "id": "7b50022f",
   "metadata": {},
   "outputs": [
    {
     "data": {
      "image/png": "[encoded data removed]",
      "text/plain": [
       "<Figure size 576x576 with 1 Axes>"
      ]
     },
     "metadata": {},
     "output_type": "display_data"
    }
   ],
   "source": [
    "# Pie Chart\n",
    "plt.figure(figsize=(8, 8))\n",
    "movies['type'].value_counts().plot.pie(autopct='%1.1f%%', colors=['lightcoral', 'lightgreen'])\n",
    "plt.title('Distribution of Types')\n",
    "plt.ylabel('')\n",
    "plt.show()"
   ]
  },
  {
   "cell_type": "code",
   "execution_count": null,
   "id": "fd296ee5",
   "metadata": {},
   "outputs": [
    {
     "data": {
      "image/png": "[encoded data removed]",
      "text/plain": [
       "<Figure size 864x720 with 2 Axes>"
      ]
     },
     "metadata": {
      "needs_background": "light"
     },
     "output_type": "display_data"
    }
   ],
   "source": [
    "# Heatmap (example using correlation matrix)\n",
    "plt.figure(figsize=(12, 10))\n",
    "correlation_matrix = movies.corr()\n",
    "sns.heatmap(correlation_matrix, cmap='coolwarm', annot=True)\n",
    "plt.title('Correlation Matrix')\n",
    "plt.show()"
   ]
  },
  {
   "cell_type": "markdown",
   "id": "6312d6cb",
   "metadata": {},
   "source": [
    "PRESENTATION:"
   ]
  },
  {
   "cell_type": "markdown",
   "id": "2fc44682",
   "metadata": {},
   "source": [
    "Good [morning/afternoon/evening], fellow tech enthusiasts! Today, I'm excited to share our journey through the analysis of this intriguing dataset. We'll delve into the code implementation, discuss key insights, provide a summary of our findings, and even spice things up with a live demo where we'll run code and dynamically tweak parameter values."
   ]
  },
  {
   "cell_type": "markdown",
   "id": "1afeac27",
   "metadata": {},
   "source": [
    "Code Implementation:\n",
    "\n",
    "Let's start with a glimpse of the Python code we used to explore this dataset:"
   ]
  },
  {
   "cell_type": "code",
   "execution_count": null,
   "id": "9b184685",
   "metadata": {},
   "outputs": [
    {
     "name": "stdout",
     "output_type": "stream",
     "text": [
      "  show_id     type                                             title  \\\n",
      "0      s1    Movie  Duck the Halls: A Mickey Mouse Christmas Special   \n",
      "1      s2    Movie                            Ernest Saves Christmas   \n",
      "2      s3    Movie                      Ice Age: A Mammoth Christmas   \n",
      "3      s4    Movie                        The Queen Family Singalong   \n",
      "4      s5  TV Show                             The Beatles: Get Back   \n",
      "\n",
      "                            director  \\\n",
      "0  Alonso Ramirez Ramos, Dave Wasson   \n",
      "1                        John Cherry   \n",
      "2                       Karen Disher   \n",
      "3                    Hamish Hamilton   \n",
      "4                                NaN   \n",
      "\n",
      "                                                cast        country  \\\n",
      "0  Chris Diamantopoulos, Tony Anselmo, Tress MacN...            NaN   \n",
      "1           Jim Varney, Noelle Parker, Douglas Seale            NaN   \n",
      "2  Raymond Albert Romano, John Leguizamo, Denis L...  United States   \n",
      "3  Darren Criss, Adam Lambert, Derek Hough, Alexa...            NaN   \n",
      "4  John Lennon, Paul McCartney, George Harrison, ...            NaN   \n",
      "\n",
      "          date_added  release_year rating  duration  \\\n",
      "0  November 26, 2021        2016.0   TV-G    23 min   \n",
      "1  November 26, 2021        1988.0     PG    91 min   \n",
      "2  November 26, 2021        2011.0   TV-G    23 min   \n",
      "3  November 26, 2021        2021.0  TV-PG    41 min   \n",
      "4  November 25, 2021        2021.0    NaN  1 Season   \n",
      "\n",
      "                       listed_in  \\\n",
      "0              Animation, Family   \n",
      "1                         Comedy   \n",
      "2      Animation, Comedy, Family   \n",
      "3                        Musical   \n",
      "4  Docuseries, Historical, Music   \n",
      "\n",
      "                                         description movie_title release_date  \\\n",
      "0   Join Mickey and the gang as they duck the halls!         NaN          NaN   \n",
      "1  Santa Claus passes his magic bag to a new St. ...         NaN          NaN   \n",
      "2          Sid the Sloth is on Santa's naughty list.         NaN          NaN   \n",
      "3               This is real life, not just fantasy!         NaN          NaN   \n",
      "4  A three-part documentary from Peter Jackson ca...         NaN          NaN   \n",
      "\n",
      "  genre mpaa_rating  total_gross  inflation_adjusted_gross  duration_numeric  \n",
      "0   NaN         NaN          NaN                       NaN              23.0  \n",
      "1   NaN         NaN          NaN                       NaN              91.0  \n",
      "2   NaN         NaN          NaN                       NaN              23.0  \n",
      "3   NaN         NaN          NaN                       NaN              41.0  \n",
      "4   NaN         NaN          NaN                       NaN               1.0  \n"
     ]
    }
   ],
   "source": [
    "# Import necessary libraries\n",
    "import pandas as pd\n",
    "\n",
    "# Display the first few rows of the dataset\n",
    "print(movies.head())"
   ]
  },
  {
   "cell_type": "markdown",
   "id": "32d02e52",
   "metadata": {},
   "source": [
    "This is the foundation of our analysis, setting the stage for a deeper dive.\n",
    "\n",
    "Key Insights:\n",
    "\n",
    "Our journey into the data revealed some fascinating insights:"
   ]
  },
  {
   "cell_type": "code",
   "execution_count": null,
   "id": "95cbef3a",
   "metadata": {},
   "outputs": [
    {
     "data": {
      "image/png": "[encoded data removed]",
      "text/plain": [
       "<Figure size 720x432 with 1 Axes>"
      ]
     },
     "metadata": {
      "needs_background": "light"
     },
     "output_type": "display_data"
    }
   ],
   "source": [
    "# insight 1\n",
    "# Histogram of Release year\n",
    "plt.figure(figsize=(10, 6))\n",
    "plt.hist(movies['release_year'].dropna(), bins=30, color='skyblue', edgecolor='black')\n",
    "plt.title('Histogram of Release Year')\n",
    "plt.xlabel('Release Year')\n",
    "plt.ylabel('Frequency')\n",
    "plt.show()"
   ]
  },
  {
   "cell_type": "code",
   "execution_count": null,
   "id": "ef9b7666",
   "metadata": {},
   "outputs": [
    {
     "data": {
      "image/png": "[encoded data removed]",
      "text/plain": [
       "<Figure size 720x432 with 1 Axes>"
      ]
     },
     "metadata": {
      "needs_background": "light"
     },
     "output_type": "display_data"
    }
   ],
   "source": [
    "#insight 2\n",
    "# Extract numeric part from 'duration' and convert to numeric\n",
    "movies['duration_numeric'] = movies['duration'].str.extract('(\\d+)').astype(float)\n",
    "\n",
    "# Box Plot of Duration by type\n",
    "plt.figure(figsize=(10, 6))\n",
    "sns.boxplot(x='type', y='duration_numeric', data=movies, palette='Set2')\n",
    "plt.title('Box Plot of Duration by Type')\n",
    "plt.xlabel('Type')\n",
    "plt.ylabel('Duration (minutes)')\n",
    "plt.show()\n"
   ]
  },
  {
   "cell_type": "code",
   "execution_count": null,
   "id": "0a3aab64",
   "metadata": {},
   "outputs": [
    {
     "data": {
      "image/png": "[encoded data removed]",
      "text/plain": [
       "<Figure size 720x432 with 1 Axes>"
      ]
     },
     "metadata": {
      "needs_background": "light"
     },
     "output_type": "display_data"
    }
   ],
   "source": [
    "#insight 3\n",
    "# Scatter Plot of Release Year and Total Gross\n",
    "plt.figure(figsize=(10, 6))\n",
    "sns.scatterplot(x='release_year', y='total_gross', data=movies, hue='type', palette='Set1', alpha=0.7)\n",
    "plt.title('Scatter Plot of Release Year and Total Gross')\n",
    "plt.show()"
   ]
  },
  {
   "cell_type": "code",
   "execution_count": null,
   "id": "4012d52b",
   "metadata": {},
   "outputs": [
    {
     "data": {
      "image/png": "[encoded data removed]",
      "text/plain": [
       "<Figure size 576x576 with 1 Axes>"
      ]
     },
     "metadata": {},
     "output_type": "display_data"
    }
   ],
   "source": [
    "#insight 4\n",
    "#Pie Chart of Distribution of Types\n",
    "plt.figure(figsize=(8, 8))\n",
    "movies['type'].value_counts().plot.pie(autopct='%1.1f%%', colors=['red', 'violet'])\n",
    "plt.title('Distribution of Types')\n",
    "plt.ylabel('')\n",
    "plt.show()"
   ]
  },
  {
   "cell_type": "markdown",
   "id": "60e6eb6a",
   "metadata": {},
   "source": [
    "These insights are the gems we unearthed during our exploration.\n",
    "\n",
    "Summary of Achievements:\n",
    "\n",
    "In a nutshell, our achievements include [we are able to create a pie chart of Distribution of Types and be able to compare types of movies,we were also able to create a histogram of Release Year which has shown as which years had the highest frequency and last but not the list we were able to create a Heatmap which was using correlation matrix which was able to show as the total_gross, release_year, inflation_adjusted_gross and also the duration_numeric] "
   ]
  },
  {
   "cell_type": "markdown",
   "id": "eb4cf5a3",
   "metadata": {},
   "source": [
    "Future Work:\n",
    "\n",
    "While we celebrate our current accomplishments, there's always room for improvement. Areas we're considering for future work encompass:"
   ]
  },
  {
   "cell_type": "code",
   "execution_count": null,
   "id": "5f51872c",
   "metadata": {},
   "outputs": [
    {
     "data": {
      "image/png": "[encoded data removed]",
      "text/plain": [
       "<Figure size 864x576 with 1 Axes>"
      ]
     },
     "metadata": {
      "needs_background": "light"
     },
     "output_type": "display_data"
    }
   ],
   "source": [
    "# Future Work Item 1: \n",
    "#Explore the relationship between release year and total gross revenue\n",
    "\n",
    "# Drop rows where both 'release_year' and 'total_gross' are NaN\n",
    "movies_filtered = movies.dropna(subset=['release_year', 'total_gross'])\n",
    "\n",
    "# Scatter plot to visualize the relationship\n",
    "plt.figure(figsize=(12, 8))\n",
    "sns.scatterplot(x='release_year', y='total_gross', data=movies_filtered, alpha=0.7, color='green')\n",
    "plt.title('Relationship Between Release Year and Total Gross Revenue')\n",
    "plt.xlabel('Release Year')\n",
    "plt.ylabel('Total Gross Revenue')\n",
    "plt.show()"
   ]
  },
  {
   "cell_type": "markdown",
   "id": "871ed50e",
   "metadata": {},
   "source": [
    "We filter the dataset to exclude rows where either the 'release_year' or 'total_gross' is missing, as we want to analyze the relationship between these two variables.\n",
    "We then create a scatter plot using Seaborn to visualize how the total gross revenue of movies varies across different release years.\n",
    "This future work item aims to explore whether there is any discernible trend or correlation between the release year of movies and their total gross revenue. It sets the stage for a more in-depth analysis of the financial performance of movies over the years."
   ]
  },
  {
   "cell_type": "code",
   "execution_count": null,
   "id": "7f0d1e52",
   "metadata": {},
   "outputs": [
    {
     "data": {
      "image/png": "[encoded data removed]",
      "text/plain": [
       "<Figure size 1008x576 with 1 Axes>"
      ]
     },
     "metadata": {
      "needs_background": "light"
     },
     "output_type": "display_data"
    }
   ],
   "source": [
    "# Future Work Item 2: Explore the distribution of movie durations across genres\n",
    "\n",
    "# Filter out rows with missing duration information\n",
    "movies_filtered = movies.dropna(subset=['duration_numeric', 'genre'])\n",
    "\n",
    "# Boxplot to visualize the distribution of movie durations across genres\n",
    "plt.figure(figsize=(14, 8))\n",
    "sns.boxplot(x='genre', y='duration_numeric', data=movies, palette='viridis')\n",
    "plt.title('Distribution of Movie Durations Across Genres')\n",
    "plt.xlabel('Genre')\n",
    "plt.ylabel('Duration (minutes)')\n",
    "plt.xticks(rotation=45, ha='right')  # Rotate genre labels for better visibility\n",
    "plt.show()"
   ]
  },
  {
   "cell_type": "markdown",
   "id": "8eb24913",
   "metadata": {},
   "source": [
    "We filter the dataset to exclude rows where either the 'duration_numeric' or 'genre' is missing, as we want to analyze the distribution of movie durations across different genres.\n",
    "We create a boxplot using Seaborn to visualize the central tendency, spread, and skewness of movie durations for each genre.\n",
    "This future work item aims to uncover patterns in movie durations across genres, providing valuable insights for filmmakers, distributors, and audiences interested in understanding genre-specific characteristics."
   ]
  },
  {
   "cell_type": "code",
   "execution_count": null,
   "id": "5aae10f6",
   "metadata": {},
   "outputs": [
    {
     "data": {
      "image/png": "[encoded data removed]",
      "text/plain": [
       "<Figure size 864x576 with 1 Axes>"
      ]
     },
     "metadata": {
      "needs_background": "light"
     },
     "output_type": "display_data"
    }
   ],
   "source": [
    "# Future Work Item 3: Analyze the distribution of ratings for movies and TV shows\n",
    "\n",
    "# Filter out rows with missing rating information\n",
    "ratings_filtered = movies.dropna(subset=['rating'])\n",
    "\n",
    "# Check if there are rows in the filtered DataFrame\n",
    "if ratings_filtered.empty:\n",
    "    print(\"No data available after filtering. Check your data or filtering conditions.\")\n",
    "else:\n",
    "    # Countplot to visualize the distribution of ratings for movies and TV shows\n",
    "    plt.figure(figsize=(12, 8))\n",
    "    sns.countplot(x='rating', hue='type', data=movies, palette='coolwarm')\n",
    "    plt.title('Distribution of Ratings for Movies and TV Shows')\n",
    "    plt.xlabel('Rating')\n",
    "    plt.ylabel('Count')\n",
    "    plt.legend(title='Type')\n",
    "    plt.show()"
   ]
  },
  {
   "cell_type": "markdown",
   "id": "82fcc5c1",
   "metadata": {},
   "source": [
    "This future work item aims to provide insights into the popularity and distribution of content ratings, helping stakeholders understand audience preferences for both movies and TV shows."
   ]
  },
  {
   "cell_type": "markdown",
   "id": "9d111572",
   "metadata": {},
   "source": [
    "Live Demo:\n",
    "\n",
    "I'll switch over to our Jupyter notebook to run some exciting code. We'll visualize data trends, explore correlations, and, for an extra dose of excitement, we'll dynamically change parameter values to see how it impacts our results.\n",
    "\n",
    "[Proceed to run code, generate visualizations, and dynamically tweak parameters]"
   ]
  },
  {
   "cell_type": "code",
   "execution_count": null,
   "id": "20d72609",
   "metadata": {},
   "outputs": [
    {
     "data": {
      "text/html": [
       "<div>\n",
       "<style scoped>\n",
       "    .dataframe tbody tr th:only-of-type {\n",
       "        vertical-align: middle;\n",
       "    }\n",
       "\n",
       "    .dataframe tbody tr th {\n",
       "        vertical-align: top;\n",
       "    }\n",
       "\n",
       "    .dataframe thead th {\n",
       "        text-align: right;\n",
       "    }\n",
       "</style>\n",
       "<table border=\"1\" class=\"dataframe\">\n",
       "  <thead>\n",
       "    <tr style=\"text-align: right;\">\n",
       "      <th></th>\n",
       "      <th>show_id</th>\n",
       "      <th>type</th>\n",
       "      <th>title</th>\n",
       "      <th>director</th>\n",
       "      <th>cast</th>\n",
       "      <th>country</th>\n",
       "      <th>date_added</th>\n",
       "      <th>release_year</th>\n",
       "      <th>rating</th>\n",
       "      <th>duration</th>\n",
       "      <th>listed_in</th>\n",
       "      <th>description</th>\n",
       "      <th>movie_title</th>\n",
       "      <th>release_date</th>\n",
       "      <th>genre</th>\n",
       "      <th>mpaa_rating</th>\n",
       "      <th>total_gross</th>\n",
       "      <th>inflation_adjusted_gross</th>\n",
       "      <th>duration_numeric</th>\n",
       "    </tr>\n",
       "  </thead>\n",
       "  <tbody>\n",
       "    <tr>\n",
       "      <th>0</th>\n",
       "      <td>s1</td>\n",
       "      <td>Movie</td>\n",
       "      <td>Duck the Halls: A Mickey Mouse Christmas Special</td>\n",
       "      <td>Alonso Ramirez Ramos, Dave Wasson</td>\n",
       "      <td>Chris Diamantopoulos, Tony Anselmo, Tress MacN...</td>\n",
       "      <td>NaN</td>\n",
       "      <td>November 26, 2021</td>\n",
       "      <td>2016.0</td>\n",
       "      <td>TV-G</td>\n",
       "      <td>23 min</td>\n",
       "      <td>Animation, Family</td>\n",
       "      <td>Join Mickey and the gang as they duck the halls!</td>\n",
       "      <td>NaN</td>\n",
       "      <td>NaN</td>\n",
       "      <td>NaN</td>\n",
       "      <td>NaN</td>\n",
       "      <td>NaN</td>\n",
       "      <td>NaN</td>\n",
       "      <td>23.0</td>\n",
       "    </tr>\n",
       "    <tr>\n",
       "      <th>1</th>\n",
       "      <td>s2</td>\n",
       "      <td>Movie</td>\n",
       "      <td>Ernest Saves Christmas</td>\n",
       "      <td>John Cherry</td>\n",
       "      <td>Jim Varney, Noelle Parker, Douglas Seale</td>\n",
       "      <td>NaN</td>\n",
       "      <td>November 26, 2021</td>\n",
       "      <td>1988.0</td>\n",
       "      <td>PG</td>\n",
       "      <td>91 min</td>\n",
       "      <td>Comedy</td>\n",
       "      <td>Santa Claus passes his magic bag to a new St. ...</td>\n",
       "      <td>NaN</td>\n",
       "      <td>NaN</td>\n",
       "      <td>NaN</td>\n",
       "      <td>NaN</td>\n",
       "      <td>NaN</td>\n",
       "      <td>NaN</td>\n",
       "      <td>91.0</td>\n",
       "    </tr>\n",
       "    <tr>\n",
       "      <th>2</th>\n",
       "      <td>s3</td>\n",
       "      <td>Movie</td>\n",
       "      <td>Ice Age: A Mammoth Christmas</td>\n",
       "      <td>Karen Disher</td>\n",
       "      <td>Raymond Albert Romano, John Leguizamo, Denis L...</td>\n",
       "      <td>United States</td>\n",
       "      <td>November 26, 2021</td>\n",
       "      <td>2011.0</td>\n",
       "      <td>TV-G</td>\n",
       "      <td>23 min</td>\n",
       "      <td>Animation, Comedy, Family</td>\n",
       "      <td>Sid the Sloth is on Santa's naughty list.</td>\n",
       "      <td>NaN</td>\n",
       "      <td>NaN</td>\n",
       "      <td>NaN</td>\n",
       "      <td>NaN</td>\n",
       "      <td>NaN</td>\n",
       "      <td>NaN</td>\n",
       "      <td>23.0</td>\n",
       "    </tr>\n",
       "    <tr>\n",
       "      <th>3</th>\n",
       "      <td>s4</td>\n",
       "      <td>Movie</td>\n",
       "      <td>The Queen Family Singalong</td>\n",
       "      <td>Hamish Hamilton</td>\n",
       "      <td>Darren Criss, Adam Lambert, Derek Hough, Alexa...</td>\n",
       "      <td>NaN</td>\n",
       "      <td>November 26, 2021</td>\n",
       "      <td>2021.0</td>\n",
       "      <td>TV-PG</td>\n",
       "      <td>41 min</td>\n",
       "      <td>Musical</td>\n",
       "      <td>This is real life, not just fantasy!</td>\n",
       "      <td>NaN</td>\n",
       "      <td>NaN</td>\n",
       "      <td>NaN</td>\n",
       "      <td>NaN</td>\n",
       "      <td>NaN</td>\n",
       "      <td>NaN</td>\n",
       "      <td>41.0</td>\n",
       "    </tr>\n",
       "    <tr>\n",
       "      <th>4</th>\n",
       "      <td>s5</td>\n",
       "      <td>TV Show</td>\n",
       "      <td>The Beatles: Get Back</td>\n",
       "      <td>NaN</td>\n",
       "      <td>John Lennon, Paul McCartney, George Harrison, ...</td>\n",
       "      <td>NaN</td>\n",
       "      <td>November 25, 2021</td>\n",
       "      <td>2021.0</td>\n",
       "      <td>NaN</td>\n",
       "      <td>1 Season</td>\n",
       "      <td>Docuseries, Historical, Music</td>\n",
       "      <td>A three-part documentary from Peter Jackson ca...</td>\n",
       "      <td>NaN</td>\n",
       "      <td>NaN</td>\n",
       "      <td>NaN</td>\n",
       "      <td>NaN</td>\n",
       "      <td>NaN</td>\n",
       "      <td>NaN</td>\n",
       "      <td>1.0</td>\n",
       "    </tr>\n",
       "  </tbody>\n",
       "</table>\n",
       "</div>"
      ],
      "text/plain": [
       "  show_id     type                                             title  \\\n",
       "0      s1    Movie  Duck the Halls: A Mickey Mouse Christmas Special   \n",
       "1      s2    Movie                            Ernest Saves Christmas   \n",
       "2      s3    Movie                      Ice Age: A Mammoth Christmas   \n",
       "3      s4    Movie                        The Queen Family Singalong   \n",
       "4      s5  TV Show                             The Beatles: Get Back   \n",
       "\n",
       "                            director  \\\n",
       "0  Alonso Ramirez Ramos, Dave Wasson   \n",
       "1                        John Cherry   \n",
       "2                       Karen Disher   \n",
       "3                    Hamish Hamilton   \n",
       "4                                NaN   \n",
       "\n",
       "                                                cast        country  \\\n",
       "0  Chris Diamantopoulos, Tony Anselmo, Tress MacN...            NaN   \n",
       "1           Jim Varney, Noelle Parker, Douglas Seale            NaN   \n",
       "2  Raymond Albert Romano, John Leguizamo, Denis L...  United States   \n",
       "3  Darren Criss, Adam Lambert, Derek Hough, Alexa...            NaN   \n",
       "4  John Lennon, Paul McCartney, George Harrison, ...            NaN   \n",
       "\n",
       "          date_added  release_year rating  duration  \\\n",
       "0  November 26, 2021        2016.0   TV-G    23 min   \n",
       "1  November 26, 2021        1988.0     PG    91 min   \n",
       "2  November 26, 2021        2011.0   TV-G    23 min   \n",
       "3  November 26, 2021        2021.0  TV-PG    41 min   \n",
       "4  November 25, 2021        2021.0    NaN  1 Season   \n",
       "\n",
       "                       listed_in  \\\n",
       "0              Animation, Family   \n",
       "1                         Comedy   \n",
       "2      Animation, Comedy, Family   \n",
       "3                        Musical   \n",
       "4  Docuseries, Historical, Music   \n",
       "\n",
       "                                         description movie_title release_date  \\\n",
       "0   Join Mickey and the gang as they duck the halls!         NaN          NaN   \n",
       "1  Santa Claus passes his magic bag to a new St. ...         NaN          NaN   \n",
       "2          Sid the Sloth is on Santa's naughty list.         NaN          NaN   \n",
       "3               This is real life, not just fantasy!         NaN          NaN   \n",
       "4  A three-part documentary from Peter Jackson ca...         NaN          NaN   \n",
       "\n",
       "  genre mpaa_rating  total_gross  inflation_adjusted_gross  duration_numeric  \n",
       "0   NaN         NaN          NaN                       NaN              23.0  \n",
       "1   NaN         NaN          NaN                       NaN              91.0  \n",
       "2   NaN         NaN          NaN                       NaN              23.0  \n",
       "3   NaN         NaN          NaN                       NaN              41.0  \n",
       "4   NaN         NaN          NaN                       NaN               1.0  "
      ]
     },
     "metadata": {},
     "output_type": "display_data"
    },
    {
     "data": {
      "image/png": "[encoded data removed]",
      "text/plain": [
       "<Figure size 576x360 with 1 Axes>"
      ]
     },
     "metadata": {
      "needs_background": "light"
     },
     "output_type": "display_data"
    }
   ],
   "source": [
    "# Display the first few rows of the dataset\n",
    "display(movies.head())\n",
    "\n",
    "# Explore trends and relationships\n",
    "\n",
    "# Example 1: Distribution of content types\n",
    "plt.figure(figsize=(8, 5))\n",
    "sns.countplot(x='type', data=movies, palette='Set1')\n",
    "plt.title('Distribution of Content Types')\n",
    "plt.xlabel('Type')\n",
    "plt.ylabel('Count')\n",
    "plt.show()"
   ]
  },
  {
   "cell_type": "code",
   "execution_count": null,
   "id": "825774a1",
   "metadata": {},
   "outputs": [
    {
     "name": "stderr",
     "output_type": "stream",
     "text": [
      "No handles with labels found to put in legend.\n"
     ]
    },
    {
     "data": {
      "image/png": "[encoded data removed]",
      "text/plain": [
       "<Figure size 864x576 with 1 Axes>"
      ]
     },
     "metadata": {
      "needs_background": "light"
     },
     "output_type": "display_data"
    }
   ],
   "source": [
    "# Example 2: Relationship between release year and total gross\n",
    "plt.figure(figsize=(12, 8))\n",
    "sns.scatterplot(x='release_year', y='total_gross', hue='type', data=movies, palette='viridis')\n",
    "plt.title('Relationship between Release Year and Total Gross')\n",
    "plt.xlabel('Release Year')\n",
    "plt.ylabel('Total Gross')\n",
    "plt.legend(title='Type')\n",
    "plt.show()"
   ]
  },
  {
   "cell_type": "code",
   "execution_count": null,
   "id": "a1357326",
   "metadata": {},
   "outputs": [
    {
     "data": {
      "image/png": "[encoded data removed]",
      "text/plain": [
       "<Figure size 864x576 with 1 Axes>"
      ]
     },
     "metadata": {
      "needs_background": "light"
     },
     "output_type": "display_data"
    }
   ],
   "source": [
    "# Example 3: Distribution of ratings for movies and TV shows\n",
    "plt.figure(figsize=(12, 8))\n",
    "sns.countplot(x='rating', hue='type', data=movies, palette='coolwarm')\n",
    "plt.title('Distribution of Ratings for Movies and TV Shows')\n",
    "plt.xlabel('Rating')\n",
    "plt.ylabel('Count')\n",
    "plt.legend(title='Type')\n",
    "plt.show()"
   ]
  },
  {
   "cell_type": "markdown",
   "id": "8a7ff3c2",
   "metadata": {},
   "source": [
    "We load the dataset and display the first few rows to get an overview.\n",
    "We use visualizations to explore trends, such as the distribution of content types, the relationship between release year and total gross, and the distribution of ratings for movies and TV shows."
   ]
  },
  {
   "cell_type": "markdown",
   "id": "fe9fd748",
   "metadata": {},
   "source": [
    "Conclusion:\n",
    "\n",
    "In conclusion, our work in [Project/Feature/Research] has been both challenging and rewarding. We've implemented a robust solution, gained valuable insights, and have a clear roadmap for future improvements.\n",
    "\n",
    "Thank you for your attention. I'm now open to any questions or discussions you might have."
   ]
  }
 ],
 "metadata": {
  "kernelspec": {
   "display_name": "learn-env",
   "language": "python",
   "name": "python3"
  },
  "language_info": {
   "codemirror_mode": {
    "name": "ipython",
    "version": 3
   },
   "file_extension": ".py",
   "mimetype": "text/x-python",
   "name": "python",
   "nbconvert_exporter": "python",
   "pygments_lexer": "ipython3",
   "version": "3.8.5"
  }
 },
 "nbformat": 4,
 "nbformat_minor": 5
}
